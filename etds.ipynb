{
 "cells": [
  {
   "cell_type": "markdown",
   "metadata": {},
   "source": [
    "# ETDS Explained\n",
    "\n",
    "\n",
    "Paper: Equivalent Transformation and Dual Stream Network Construction for Mobile Image Super-Resolution [[Link]](https://openaccess.thecvf.com/content/CVPR2023/papers/Chao_Equivalent_Transformation_and_Dual_Stream_Network_Construction_for_Mobile_Image_CVPR_2023_paper.pdf)"
   ]
  },
  {
   "cell_type": "code",
   "execution_count": 36,
   "metadata": {},
   "outputs": [],
   "source": [
    "import torch\n",
    "import torch.nn as nn\n",
    "import torch.nn.functional as F"
   ]
  },
  {
   "cell_type": "markdown",
   "metadata": {},
   "source": [
    "## Example of Horizontal Concatenation - Eqn.2"
   ]
  },
  {
   "cell_type": "code",
   "execution_count": 37,
   "metadata": {},
   "outputs": [
    {
     "data": {
      "text/plain": [
       "True"
      ]
     },
     "execution_count": 37,
     "metadata": {},
     "output_type": "execute_result"
    }
   ],
   "source": [
    "x = torch.randn(1, 32, 64, 64)\n",
    "y = torch.randn(1, 32, 64, 64)\n",
    "\n",
    "w1 = torch.randn(64, 32, 3, 3)\n",
    "w2 = torch.randn(64, 32, 3, 3)\n",
    "\n",
    "res_1 = F.conv2d(x, w1, padding=1) + F.conv2d(y, w2, padding=1)\n",
    "\n",
    "# This is horizontal concatenation\n",
    "res_2 = F.conv2d(\n",
    "    torch.cat([x, y], dim=1), torch.cat([w1, w2], dim=1), padding=1\n",
    ")\n",
    "\n",
    "torch.allclose(res_1, res_2, atol=1e-3)"
   ]
  },
  {
   "cell_type": "markdown",
   "metadata": {},
   "source": [
    "## Example of Vertical Concatenation - Eqn.3"
   ]
  },
  {
   "cell_type": "code",
   "execution_count": 38,
   "metadata": {},
   "outputs": [
    {
     "data": {
      "text/plain": [
       "True"
      ]
     },
     "execution_count": 38,
     "metadata": {},
     "output_type": "execute_result"
    }
   ],
   "source": [
    "x = torch.randn(1, 32, 64, 64)\n",
    "\n",
    "w1 = torch.randn(32, 32, 3, 3)\n",
    "w2 = torch.randn(32, 32, 3, 3)\n",
    "\n",
    "res_1 = torch.cat([F.conv2d(x, w1, padding=1), F.conv2d(x, w2, padding=1)], dim=1)\n",
    "\n",
    "# This is vertical concatenation\n",
    "res_2 = F.conv2d(x, torch.cat([w1, w2], dim=0), padding=1)\n",
    "\n",
    "torch.allclose(res_1, res_2, atol=1e-3)"
   ]
  },
  {
   "cell_type": "markdown",
   "metadata": {},
   "source": [
    "## ET for Repeat Operation - Eqn.4"
   ]
  },
  {
   "cell_type": "code",
   "execution_count": 39,
   "metadata": {},
   "outputs": [
    {
     "data": {
      "text/plain": [
       "True"
      ]
     },
     "execution_count": 39,
     "metadata": {},
     "output_type": "execute_result"
    }
   ],
   "source": [
    "x = torch.randn(1, 32, 64, 64)\n",
    "\n",
    "I = torch.eye(32).view(32, 32, 1, 1)\n",
    "\n",
    "n_concat = 4\n",
    "x_concat_1 = torch.cat([x] * n_concat, dim=1)\n",
    "\n",
    "# Vertical concatenation\n",
    "x_concat_2 = F.conv2d(x, torch.cat([I] * n_concat, dim=0), padding=0)\n",
    "\n",
    "torch.allclose(x_concat_1, x_concat_2, atol=1e-3)"
   ]
  },
  {
   "cell_type": "markdown",
   "metadata": {},
   "source": [
    "## ET for Add Operation - Eqn.5"
   ]
  },
  {
   "cell_type": "code",
   "execution_count": 40,
   "metadata": {},
   "outputs": [
    {
     "data": {
      "text/plain": [
       "True"
      ]
     },
     "execution_count": 40,
     "metadata": {},
     "output_type": "execute_result"
    }
   ],
   "source": [
    "x = torch.randn(1, 32, 64, 64)\n",
    "y = torch.randn(1, 32, 64, 64)\n",
    "\n",
    "I = torch.eye(32).view(32, 32, 1, 1)\n",
    "\n",
    "sum_1 = x + y\n",
    "\n",
    "# Horizontal concatenation\n",
    "sum_2 = F.conv2d(\n",
    "    torch.cat([x, y], dim=1), torch.cat([I, I], dim=1), padding=0\n",
    ")\n",
    "\n",
    "torch.allclose(sum_1, sum_2, atol=1e-3)"
   ]
  },
  {
   "cell_type": "markdown",
   "metadata": {},
   "source": [
    "## ET for Concat Operation - Eqn.6"
   ]
  },
  {
   "cell_type": "code",
   "execution_count": 41,
   "metadata": {},
   "outputs": [
    {
     "data": {
      "text/plain": [
       "True"
      ]
     },
     "execution_count": 41,
     "metadata": {},
     "output_type": "execute_result"
    }
   ],
   "source": [
    "x = torch.randn(1, 32, 64, 64)\n",
    "y = torch.randn(1, 32, 64, 64)\n",
    "\n",
    "w1 = torch.randn(32, 32, 3, 3)\n",
    "b1 = torch.randn(32)\n",
    "w2 = torch.randn(32, 32, 3, 3)\n",
    "b2 = torch.randn(32)\n",
    "\n",
    "O = torch.zeros(32, 32, 3, 3)\n",
    "\n",
    "cat_1= torch.cat([F.conv2d(x, w1, padding=1) + b1.view(1, -1, 1, 1), F.conv2d(y, w2, padding=1) + b2.view(1, -1, 1, 1)], dim=1)\n",
    "\n",
    "# Horizontal concatenation + vertical concatenation\n",
    "cat_2 = F.conv2d(\n",
    "    torch.cat([x, y], dim=1), torch.cat([torch.cat([w1, O], dim=1), torch.cat([O, w2], dim=1)], dim=0), padding=1\n",
    ") + torch.cat([b1, b2], dim=0).view(1, -1, 1, 1)\n",
    "\n",
    "torch.allclose(cat_1, cat_2, atol=1e-3)"
   ]
  },
  {
   "cell_type": "markdown",
   "metadata": {},
   "source": [
    "## ET for Concat Operation(Where one residual has no convolution) - Eqn.8"
   ]
  },
  {
   "cell_type": "code",
   "execution_count": 42,
   "metadata": {},
   "outputs": [
    {
     "data": {
      "text/plain": [
       "True"
      ]
     },
     "execution_count": 42,
     "metadata": {},
     "output_type": "execute_result"
    }
   ],
   "source": [
    "x = torch.randn(1, 32, 64, 64)\n",
    "y = torch.randn(1, 32, 64, 64)\n",
    "\n",
    "w1 = torch.randn(32, 32, 3, 3)\n",
    "b1 = torch.randn(32)\n",
    "\n",
    "I = torch.eye(32).view(32, 32, 1, 1)\n",
    "I = F.pad(I, (1, 1, 1, 1))  # To 3x3\n",
    "O = torch.zeros(32, 32, 3, 3)\n",
    "\n",
    "cat_1 = torch.cat([F.conv2d(x, w1, padding=1) + b1.view(1, -1, 1, 1), y], dim=1)\n",
    "\n",
    "# Horizontal concatenation + vertical concatenation\n",
    "cat_2 = F.conv2d(\n",
    "    torch.cat([x, y], dim=1), torch.cat([torch.cat([w1, O], dim=1), torch.cat([O, I], dim=1)], dim=0), padding=1\n",
    ") + torch.cat([b1, torch.zeros_like(b1)], dim=0).view(1, -1, 1, 1)\n",
    "\n",
    "torch.allclose(cat_1, cat_2, atol=1e-3)"
   ]
  },
  {
   "cell_type": "markdown",
   "metadata": {},
   "source": [
    "## ET for Concat Operation(Where one residual has no convolution and x equals y) - Eqn.9"
   ]
  },
  {
   "cell_type": "code",
   "execution_count": 49,
   "metadata": {},
   "outputs": [
    {
     "data": {
      "text/plain": [
       "True"
      ]
     },
     "execution_count": 49,
     "metadata": {},
     "output_type": "execute_result"
    }
   ],
   "source": [
    "x = torch.randn(1, 32, 64, 64)\n",
    "y = x.clone()\n",
    "\n",
    "w1 = torch.randn(32, 32, 3, 3)\n",
    "b1 = torch.randn(32)\n",
    "\n",
    "I = torch.eye(32).view(32, 32, 1, 1)\n",
    "I = F.pad(I, (1, 1, 1, 1))  # To 3x3\n",
    "\n",
    "cat_1 = torch.cat([F.conv2d(x, w1, padding=1) + b1.view(1, -1, 1, 1), y], dim=1)\n",
    "\n",
    "# Vertical concatenation\n",
    "cat_2 = F.conv2d(\n",
    "    x, torch.cat([w1, I], dim=0), padding=1\n",
    ") + torch.cat([b1, torch.zeros_like(b1)], dim=0).view(1, -1, 1, 1)\n",
    "\n",
    "torch.allclose(cat_1, cat_2, atol=1e-3)"
   ]
  },
  {
   "cell_type": "markdown",
   "metadata": {},
   "source": [
    "## ET for Clip Operation - Eqn.10"
   ]
  },
  {
   "cell_type": "code",
   "execution_count": 63,
   "metadata": {},
   "outputs": [
    {
     "data": {
      "text/plain": [
       "True"
      ]
     },
     "execution_count": 63,
     "metadata": {},
     "output_type": "execute_result"
    }
   ],
   "source": [
    "x = torch.randn(1, 32, 64, 64) * 255\n",
    "\n",
    "I = torch.eye(32).view(32, 32, 1, 1)\n",
    "\n",
    "clip_1 = torch.clip(x, 0, 255)\n",
    "\n",
    "# So, clip(x) equals ReLU(-ReLU(-x + 255) + 255)\n",
    "\n",
    "y = F.relu(F.conv2d(x, -I, padding=0) + 255)\n",
    "clip_2 = F.relu(F.conv2d(y, -I, padding=0) + 255)\n",
    "\n",
    "torch.allclose(clip_1, clip_2, atol=1e-3)"
   ]
  },
  {
   "cell_type": "markdown",
   "metadata": {},
   "source": [
    "## Let's Convert PlainSR using ET"
   ]
  },
  {
   "cell_type": "code",
   "execution_count": 173,
   "metadata": {},
   "outputs": [
    {
     "name": "stdout",
     "output_type": "stream",
     "text": [
      "torch.Size([1, 3, 256, 256])\n"
     ]
    }
   ],
   "source": [
    "def conv_3x3(x, w):\n",
    "    return F.conv2d(x, w, padding=1)\n",
    "\n",
    "def relu(x):  # Actually, PlainSR used PReLU but for convenience we use ReLU\n",
    "    return F.relu(x)\n",
    "\n",
    "\n",
    "# This is M3C32 Example. For convenience, bias is omitted.\n",
    "def PlainSR(x, w_proj, w_1, w_2, w_3, w_out, scale=4):\n",
    "    x_skip = x.clone()\n",
    "\n",
    "    # body\n",
    "    x = relu(conv_3x3(x, w_proj))\n",
    "    x = relu(conv_3x3(x, w_1))\n",
    "    x = relu(conv_3x3(x, w_2))\n",
    "    x = relu(conv_3x3(x, w_3))\n",
    "    x = conv_3x3(x, w_out)\n",
    "    \n",
    "    # skip connection\n",
    "    x = x + x_skip.repeat(1, scale ** 2, 1, 1)  # This equals F.pixel_shuffle(x) + nn.UpSample(scale_factor=scale, mode='nearest')(x_skip)\n",
    "    \n",
    "    # clip\n",
    "    x = torch.clip(x, 0, 255)\n",
    "    \n",
    "    # upsample\n",
    "    x = F.pixel_shuffle(x, scale)\n",
    "    return x\n",
    "\n",
    "\n",
    "x = torch.FloatTensor(1, 3, 64, 64).uniform_(0, 1)\n",
    "w_proj = torch.randn(32, 3, 3, 3)\n",
    "w_1 = torch.randn(32, 32, 3, 3)\n",
    "w_2 = torch.randn(32, 32, 3, 3)\n",
    "w_3 = torch.randn(32, 32, 3, 3)\n",
    "w_out = torch.randn(3 * 4 ** 2, 32, 3, 3)  # Colors * Scale ** 2, inp_planes, kernel_size, kernel_size\n",
    "\n",
    "res_1 = PlainSR(x, w_proj, w_1, w_2, w_3, w_out)\n",
    "\n",
    "print(res_1.shape)"
   ]
  },
  {
   "cell_type": "code",
   "execution_count": 176,
   "metadata": {},
   "outputs": [
    {
     "data": {
      "text/plain": [
       "tensor(1.0000)"
      ]
     },
     "execution_count": 176,
     "metadata": {},
     "output_type": "execute_result"
    }
   ],
   "source": [
    "x.max()"
   ]
  },
  {
   "cell_type": "markdown",
   "metadata": {},
   "source": [
    "## 1. Convert Repeat Operation into Convolution"
   ]
  },
  {
   "cell_type": "code",
   "execution_count": 177,
   "metadata": {},
   "outputs": [
    {
     "data": {
      "text/plain": [
       "True"
      ]
     },
     "execution_count": 177,
     "metadata": {},
     "output_type": "execute_result"
    }
   ],
   "source": [
    "def PlainSR_repeat_to_conv(x, w_proj, w_1, w_2, w_3, w_out, scale=4):\n",
    "    x_skip = x.clone()\n",
    "    I_input = torch.cat(\n",
    "        [torch.eye(x.shape[1]).view(x.shape[1], x.shape[1], 1, 1)] * scale ** 2, dim=0\n",
    "    )\n",
    "\n",
    "    # body\n",
    "    x = relu(conv_3x3(x, w_proj))\n",
    "    x = relu(conv_3x3(x, w_1))\n",
    "    x = relu(conv_3x3(x, w_2))\n",
    "    x = relu(conv_3x3(x, w_3))\n",
    "    x = conv_3x3(x, w_out)\n",
    "    \n",
    "    # skip connection\n",
    "    x_skip = F.conv2d(x_skip, I_input, padding=0) # <<<<<<<<<<<<<<<<<<<<<\n",
    "    x = x + x_skip\n",
    "    \n",
    "    # clip\n",
    "    x = torch.clip(x, 0, 255)\n",
    "    \n",
    "    # upsample\n",
    "    x = F.pixel_shuffle(x, scale)\n",
    "    return x\n",
    "\n",
    "res_2 = PlainSR_repeat_to_conv(x, w_proj, w_1, w_2, w_3, w_out)\n",
    "\n",
    "torch.allclose(res_1, res_2, atol=1e-3)"
   ]
  },
  {
   "cell_type": "markdown",
   "metadata": {},
   "source": [
    "## 2. Convert Add Operation into Concat and Convolution"
   ]
  },
  {
   "cell_type": "code",
   "execution_count": 178,
   "metadata": {},
   "outputs": [
    {
     "data": {
      "text/plain": [
       "True"
      ]
     },
     "execution_count": 178,
     "metadata": {},
     "output_type": "execute_result"
    }
   ],
   "source": [
    "def PlainSR_add_to_conv(x, w_proj, w_1, w_2, w_3, w_out, scale=4):\n",
    "    x_skip = x.clone()\n",
    "    I_input = torch.cat(\n",
    "        [torch.eye(x.shape[1]).view(x.shape[1], x.shape[1], 1, 1)] * scale ** 2, dim=0\n",
    "    )\n",
    "    I_out = torch.eye(w_out.shape[0]).view(w_out.shape[0], w_out.shape[0], 1, 1).repeat(1, 2, 1, 1) # <<<<<<<<<<<<<<<<<<<<<\n",
    "\n",
    "    # body\n",
    "    x = relu(conv_3x3(x, w_proj))\n",
    "    x = relu(conv_3x3(x, w_1))\n",
    "    x = relu(conv_3x3(x, w_2))\n",
    "    x = relu(conv_3x3(x, w_3))\n",
    "    x = conv_3x3(x, w_out)\n",
    "    \n",
    "    # skip connection\n",
    "    x_skip = F.conv2d(x_skip, I_input, padding=0)\n",
    "    x_cat = torch.cat([x, x_skip], dim=1)\n",
    "    x = F.conv2d(\n",
    "       x_cat, I_out, padding=0  # <<<<<<<<<<<<<<<<<<<<<\n",
    "    )\n",
    "    \n",
    "    # clip\n",
    "    x = torch.clip(x, 0, 255)\n",
    "    \n",
    "    # upsample\n",
    "    x = F.pixel_shuffle(x, scale)\n",
    "    return x\n",
    "\n",
    "res_3 = PlainSR_add_to_conv(x, w_proj, w_1, w_2, w_3, w_out)\n",
    "\n",
    "torch.allclose(res_1, res_3, atol=1e-3)"
   ]
  },
  {
   "cell_type": "markdown",
   "metadata": {},
   "source": [
    "## 3. Convert Concat Operation into Convolution"
   ]
  },
  {
   "cell_type": "code",
   "execution_count": 179,
   "metadata": {},
   "outputs": [
    {
     "data": {
      "text/plain": [
       "True"
      ]
     },
     "execution_count": 179,
     "metadata": {},
     "output_type": "execute_result"
    }
   ],
   "source": [
    "def PlainSR_concat_to_conv(x, w_proj, w_1, w_2, w_3, w_out, scale=4):\n",
    "    x_skip = x.clone()\n",
    "    I_input = torch.cat(\n",
    "        [torch.eye(x.shape[1]).view(x.shape[1], x.shape[1], 1, 1)] * scale ** 2, dim=0\n",
    "    )\n",
    "    I_input = F.pad(I_input, (1, 1, 1, 1))  # To 3x3 <<<<<<<<<<<<<<<<<<<<<\n",
    "    I_out = torch.eye(w_out.shape[0]).view(w_out.shape[0], w_out.shape[0], 1, 1).repeat(1, 2, 1, 1)\n",
    "\n",
    "    w_out_et = torch.cat(\n",
    "        [torch.cat([w_out, torch.zeros_like(I_input)], dim=1), torch.cat([torch.zeros_like(w_out), I_input], dim=1)], dim=0\n",
    "    )\n",
    "\n",
    "    # body\n",
    "    x = relu(conv_3x3(x, w_proj))\n",
    "    x = relu(conv_3x3(x, w_1))\n",
    "    x = relu(conv_3x3(x, w_2))\n",
    "    x = relu(conv_3x3(x, w_3))\n",
    "    # x = conv_3x3(x, w_out)\n",
    "    x_cat_bef = torch.cat([x, x_skip], dim=1) # <<<<<<<<<<<<<<<<<<<<<\n",
    "    x = F.conv2d(\n",
    "       x_cat_bef, w_out_et, padding=1  # <<<<<<<<<<<<<<<<<<<<<\n",
    "    )\n",
    "    \n",
    "    # skip connection\n",
    "    x = F.conv2d(\n",
    "       x, I_out, padding=0\n",
    "    )\n",
    "    \n",
    "    # clip\n",
    "    x = torch.clip(x, 0, 255)\n",
    "    \n",
    "    # upsample\n",
    "    x = F.pixel_shuffle(x, scale)\n",
    "    \n",
    "    return x\n",
    "\n",
    "res_4 = PlainSR_concat_to_conv(x, w_proj, w_1, w_2, w_3, w_out)\n",
    "\n",
    "torch.allclose(res_1, res_4, atol=1e-3)"
   ]
  },
  {
   "cell_type": "markdown",
   "metadata": {},
   "source": [
    "## 4. Convert Concat Operation(Where one residual has no convolution) into Convolution"
   ]
  },
  {
   "cell_type": "code",
   "execution_count": 183,
   "metadata": {},
   "outputs": [
    {
     "data": {
      "text/plain": [
       "True"
      ]
     },
     "execution_count": 183,
     "metadata": {},
     "output_type": "execute_result"
    }
   ],
   "source": [
    "def PlainSR_concat_noconvres_to_conv(x, w_proj, w_1, w_2, w_3, w_out, scale=4):\n",
    "    x_skip = x.clone()\n",
    "    I = torch.eye(x.shape[1]).view(x.shape[1], x.shape[1], 1, 1)\n",
    "    I = F.pad(I, (1, 1, 1, 1))  # To 3x3 <<<<<<<<<<<<<<<<<<<<<\n",
    "    I_input = torch.cat(\n",
    "        [torch.eye(x.shape[1]).view(x.shape[1], x.shape[1], 1, 1)] * scale ** 2, dim=0\n",
    "    )\n",
    "    I_input = F.pad(I_input, (1, 1, 1, 1))\n",
    "    I_out = torch.eye(w_out.shape[0]).view(w_out.shape[0], w_out.shape[0], 1, 1).repeat(1, 2, 1, 1)\n",
    "    \n",
    "    w_3_et = torch.cat(\n",
    "        [torch.cat([w_3, torch.zeros((w_3.shape[0], I.shape[1], 3, 3))], dim=1), torch.cat([torch.zeros((I.shape[0], w_3.shape[1], 3, 3)), I], dim=1)], dim=0\n",
    "    )\n",
    "    w_out_et = torch.cat(\n",
    "        [torch.cat([w_out, torch.zeros_like(I_input)], dim=1), torch.cat([torch.zeros_like(w_out), I_input], dim=1)], dim=0\n",
    "    )\n",
    "\n",
    "    # body\n",
    "    x = relu(conv_3x3(x, w_proj))\n",
    "    x = relu(conv_3x3(x, w_1))\n",
    "    x = relu(conv_3x3(x, w_2))\n",
    "    x_cat_3 = torch.cat([F.relu(x), x_skip], dim=1) # <<<<<<<<<<<<<<<<<<<<<\n",
    "    x_cat_bef = F.conv2d(\n",
    "         x_cat_3, w_3_et, padding=1  # <<<<<<<<<<<<<<<<<<<<<\n",
    "    )\n",
    "    x_cat_bef = F.relu(x_cat_bef)  # Since residual skip has no negative values\n",
    "    x = F.conv2d(\n",
    "       x_cat_bef, w_out_et, padding=1\n",
    "    )\n",
    "    \n",
    "    # skip connection\n",
    "    x = F.conv2d(\n",
    "       x, I_out, padding=0\n",
    "    )\n",
    "    \n",
    "    # clip\n",
    "    x = torch.clip(x, 0, 255)\n",
    "    \n",
    "    # upsample\n",
    "    x = F.pixel_shuffle(x, scale)\n",
    "    \n",
    "    return x\n",
    "\n",
    "res_5 = PlainSR_concat_noconvres_to_conv(x, w_proj, w_1, w_2, w_3, w_out)\n",
    "\n",
    "torch.allclose(res_1, res_5, atol=1e-3)"
   ]
  },
  {
   "cell_type": "markdown",
   "metadata": {},
   "source": [
    "## 5. Repeat this to w1 and w2"
   ]
  },
  {
   "cell_type": "code",
   "execution_count": 185,
   "metadata": {},
   "outputs": [
    {
     "data": {
      "text/plain": [
       "True"
      ]
     },
     "execution_count": 185,
     "metadata": {},
     "output_type": "execute_result"
    }
   ],
   "source": [
    "def PlainSR_concat_noconvres_to_conv_2(x, w_proj, w_1, w_2, w_3, w_out, scale=4):\n",
    "    x_skip = x.clone()\n",
    "    I = torch.eye(x.shape[1]).view(x.shape[1], x.shape[1], 1, 1)\n",
    "    I = F.pad(I, (1, 1, 1, 1))  # To 3x3 <<<<<<<<<<<<<<<<<<<<<\n",
    "    I_input = torch.cat(\n",
    "        [torch.eye(x.shape[1]).view(x.shape[1], x.shape[1], 1, 1)] * scale ** 2, dim=0\n",
    "    )\n",
    "    I_input = F.pad(I_input, (1, 1, 1, 1))\n",
    "    I_out = torch.eye(w_out.shape[0]).view(w_out.shape[0], w_out.shape[0], 1, 1).repeat(1, 2, 1, 1)\n",
    "    \n",
    "    w_2_et = torch.cat(\n",
    "        [torch.cat([w_2, torch.zeros((w_2.shape[0], I.shape[1], 3, 3))], dim=1), torch.cat([torch.zeros((I.shape[0], w_2.shape[1], 3, 3)), I], dim=1)], dim=0\n",
    "    )\n",
    "    w_3_et = torch.cat(\n",
    "        [torch.cat([w_3, torch.zeros((w_3.shape[0], I.shape[1], 3, 3))], dim=1), torch.cat([torch.zeros((I.shape[0], w_3.shape[1], 3, 3)), I], dim=1)], dim=0\n",
    "    )\n",
    "    w_out_et = torch.cat(\n",
    "        [torch.cat([w_out, torch.zeros_like(I_input)], dim=1), torch.cat([torch.zeros_like(w_out), I_input], dim=1)], dim=0\n",
    "    )\n",
    "\n",
    "    # body\n",
    "    x = relu(conv_3x3(x, w_proj))\n",
    "    x = relu(conv_3x3(x, w_1))\n",
    "    # x = relu(conv_3x3(x, w_2))\n",
    "    x_cat_2 = torch.cat([F.relu(x), x_skip], dim=1) # <<<<<<<<<<<<<<<<<<<<<\n",
    "    x_cat_3 = F.conv2d(\n",
    "         x_cat_2, w_2_et, padding=1\n",
    "    )\n",
    "    x_cat_3 = F.relu(x_cat_3)  # Since residual skip has no negative values\n",
    "    x_cat_bef = F.conv2d(\n",
    "         x_cat_3, w_3_et, padding=1\n",
    "    )\n",
    "    x_cat_bef = F.relu(x_cat_bef)  # Since residual skip has no negative values\n",
    "    x = F.conv2d(\n",
    "       x_cat_bef, w_out_et, padding=1\n",
    "    )\n",
    "    \n",
    "    # skip connection\n",
    "    x = F.conv2d(\n",
    "       x, I_out, padding=0\n",
    "    )\n",
    "    \n",
    "    # clip\n",
    "    x = torch.clip(x, 0, 255)\n",
    "    \n",
    "    # upsample\n",
    "    x = F.pixel_shuffle(x, scale)\n",
    "    \n",
    "    return x\n",
    "\n",
    "res_6 = PlainSR_concat_noconvres_to_conv_2(x, w_proj, w_1, w_2, w_3, w_out)\n",
    "\n",
    "torch.allclose(res_1, res_6, atol=1e-3)"
   ]
  },
  {
   "cell_type": "code",
   "execution_count": 187,
   "metadata": {},
   "outputs": [
    {
     "data": {
      "text/plain": [
       "True"
      ]
     },
     "execution_count": 187,
     "metadata": {},
     "output_type": "execute_result"
    }
   ],
   "source": [
    "def PlainSR_concat_noconvres_to_conv_3(x, w_proj, w_1, w_2, w_3, w_out, scale=4):\n",
    "    x_skip = x.clone()\n",
    "    I = torch.eye(x.shape[1]).view(x.shape[1], x.shape[1], 1, 1)\n",
    "    I = F.pad(I, (1, 1, 1, 1))  # To 3x3 <<<<<<<<<<<<<<<<<<<<<\n",
    "    I_input = torch.cat(\n",
    "        [torch.eye(x.shape[1]).view(x.shape[1], x.shape[1], 1, 1)] * scale ** 2, dim=0\n",
    "    )\n",
    "    I_input = F.pad(I_input, (1, 1, 1, 1))\n",
    "    I_out = torch.eye(w_out.shape[0]).view(w_out.shape[0], w_out.shape[0], 1, 1).repeat(1, 2, 1, 1)\n",
    "    \n",
    "    w_1_et = torch.cat(\n",
    "        [torch.cat([w_1, torch.zeros((w_1.shape[0], I.shape[1], 3, 3))], dim=1), torch.cat([torch.zeros((I.shape[0], w_1.shape[1], 3, 3)), I], dim=1)], dim=0\n",
    "    )\n",
    "    w_2_et = torch.cat(\n",
    "        [torch.cat([w_2, torch.zeros((w_2.shape[0], I.shape[1], 3, 3))], dim=1), torch.cat([torch.zeros((I.shape[0], w_2.shape[1], 3, 3)), I], dim=1)], dim=0\n",
    "    )\n",
    "    w_3_et = torch.cat(\n",
    "        [torch.cat([w_3, torch.zeros((w_3.shape[0], I.shape[1], 3, 3))], dim=1), torch.cat([torch.zeros((I.shape[0], w_3.shape[1], 3, 3)), I], dim=1)], dim=0\n",
    "    )\n",
    "    w_out_et = torch.cat(\n",
    "        [torch.cat([w_out, torch.zeros_like(I_input)], dim=1), torch.cat([torch.zeros_like(w_out), I_input], dim=1)], dim=0\n",
    "    )\n",
    "\n",
    "    # body\n",
    "    x = relu(conv_3x3(x, w_proj))\n",
    "    # x = relu(conv_3x3(x, w_1))\n",
    "    x_cat_1 = torch.cat([F.relu(x), x_skip], dim=1) # <<<<<<<<<<<<<<<<<<<<<\n",
    "    x_cat_2 = F.conv2d(\n",
    "         x_cat_1, w_1_et, padding=1\n",
    "    )\n",
    "    x_cat_2 = F.relu(x_cat_2)  # Since residual skip has no negative values\n",
    "    x_cat_3 = F.conv2d(\n",
    "         x_cat_2, w_2_et, padding=1\n",
    "    )\n",
    "    x_cat_3 = F.relu(x_cat_3)  # Since residual skip has no negative values\n",
    "    x_cat_bef = F.conv2d(\n",
    "         x_cat_3, w_3_et, padding=1\n",
    "    )\n",
    "    x_cat_bef = F.relu(x_cat_bef)  # Since residual skip has no negative values\n",
    "    x = F.conv2d(\n",
    "       x_cat_bef, w_out_et, padding=1\n",
    "    )\n",
    "    \n",
    "    # skip connection\n",
    "    x = F.conv2d(\n",
    "       x, I_out, padding=0\n",
    "    )\n",
    "    \n",
    "    # clip\n",
    "    x = torch.clip(x, 0, 255)\n",
    "    \n",
    "    # upsample\n",
    "    x = F.pixel_shuffle(x, scale)\n",
    "    \n",
    "    return x\n",
    "\n",
    "res_7 = PlainSR_concat_noconvres_to_conv_3(x, w_proj, w_1, w_2, w_3, w_out)\n",
    "\n",
    "torch.allclose(res_1, res_7, atol=1e-3)"
   ]
  },
  {
   "cell_type": "markdown",
   "metadata": {},
   "source": [
    "## 6. Convert Input Concat Operation into Convolution"
   ]
  },
  {
   "cell_type": "code",
   "execution_count": 190,
   "metadata": {},
   "outputs": [
    {
     "data": {
      "text/plain": [
       "True"
      ]
     },
     "execution_count": 190,
     "metadata": {},
     "output_type": "execute_result"
    }
   ],
   "source": [
    "def PlainSR_concat_input_to_conv(x, w_proj, w_1, w_2, w_3, w_out, scale=4):\n",
    "    # x_skip = x.clone()  <<<<<<<<<<<<<<<<<<<<<\n",
    "    I = torch.eye(x.shape[1]).view(x.shape[1], x.shape[1], 1, 1)\n",
    "    I = F.pad(I, (1, 1, 1, 1))\n",
    "    I_input = torch.cat(\n",
    "        [torch.eye(x.shape[1]).view(x.shape[1], x.shape[1], 1, 1)] * scale ** 2, dim=0\n",
    "    )\n",
    "    I_input = F.pad(I_input, (1, 1, 1, 1))\n",
    "    I_out = torch.eye(w_out.shape[0]).view(w_out.shape[0], w_out.shape[0], 1, 1).repeat(1, 2, 1, 1)\n",
    "    \n",
    "    w_proj_et = torch.cat([w_proj, I], dim=0)\n",
    "    w_1_et = torch.cat(\n",
    "        [torch.cat([w_1, torch.zeros((w_1.shape[0], I.shape[1], 3, 3))], dim=1), torch.cat([torch.zeros((I.shape[0], w_1.shape[1], 3, 3)), I], dim=1)], dim=0\n",
    "    )\n",
    "    w_2_et = torch.cat(\n",
    "        [torch.cat([w_2, torch.zeros((w_2.shape[0], I.shape[1], 3, 3))], dim=1), torch.cat([torch.zeros((I.shape[0], w_2.shape[1], 3, 3)), I], dim=1)], dim=0\n",
    "    )\n",
    "    w_3_et = torch.cat(\n",
    "        [torch.cat([w_3, torch.zeros((w_3.shape[0], I.shape[1], 3, 3))], dim=1), torch.cat([torch.zeros((I.shape[0], w_3.shape[1], 3, 3)), I], dim=1)], dim=0\n",
    "    )\n",
    "    w_out_et = torch.cat(\n",
    "        [torch.cat([w_out, torch.zeros_like(I_input)], dim=1), torch.cat([torch.zeros_like(w_out), I_input], dim=1)], dim=0\n",
    "    )\n",
    "\n",
    "    # body\n",
    "    x_cat_1 = F.conv2d(\n",
    "         x, w_proj_et, padding=1\n",
    "    )\n",
    "    x_cat_1 = F.relu(x_cat_1)  # Since residual skip has no negative values\n",
    "    x_cat_2 = F.conv2d(\n",
    "         x_cat_1, w_1_et, padding=1\n",
    "    )\n",
    "    x_cat_2 = F.relu(x_cat_2)  # Since residual skip has no negative values\n",
    "    x_cat_3 = F.conv2d(\n",
    "         x_cat_2, w_2_et, padding=1\n",
    "    )\n",
    "    x_cat_3 = F.relu(x_cat_3)  # Since residual skip has no negative values\n",
    "    x_cat_bef = F.conv2d(\n",
    "         x_cat_3, w_3_et, padding=1\n",
    "    )\n",
    "    x_cat_bef = F.relu(x_cat_bef)  # Since residual skip has no negative values\n",
    "    x = F.conv2d(\n",
    "       x_cat_bef, w_out_et, padding=1\n",
    "    )\n",
    "    \n",
    "    # skip connection\n",
    "    x = F.conv2d(\n",
    "       x, I_out, padding=0\n",
    "    )\n",
    "    \n",
    "    # clip\n",
    "    x = torch.clip(x, 0, 255)\n",
    "    \n",
    "    # upsample\n",
    "    x = F.pixel_shuffle(x, scale)\n",
    "    \n",
    "    return x\n",
    "\n",
    "res_8 = PlainSR_concat_input_to_conv(x, w_proj, w_1, w_2, w_3, w_out)\n",
    "\n",
    "torch.allclose(res_1, res_8, atol=1e-3)"
   ]
  },
  {
   "cell_type": "markdown",
   "metadata": {},
   "source": [
    "## 7. Convert Clip Operation into Convolution"
   ]
  },
  {
   "cell_type": "code",
   "execution_count": 191,
   "metadata": {},
   "outputs": [
    {
     "data": {
      "text/plain": [
       "True"
      ]
     },
     "execution_count": 191,
     "metadata": {},
     "output_type": "execute_result"
    }
   ],
   "source": [
    "def PlainSR_clip_to_conv(x, w_proj, w_1, w_2, w_3, w_out, scale=4):\n",
    "    # x_skip = x.clone()  <<<<<<<<<<<<<<<<<<<<<\n",
    "    I = torch.eye(x.shape[1]).view(x.shape[1], x.shape[1], 1, 1)\n",
    "    I = F.pad(I, (1, 1, 1, 1))\n",
    "    I_input = torch.cat(\n",
    "        [torch.eye(x.shape[1]).view(x.shape[1], x.shape[1], 1, 1)] * scale ** 2, dim=0\n",
    "    )\n",
    "    I_input = F.pad(I_input, (1, 1, 1, 1))\n",
    "    I_out = torch.eye(w_out.shape[0]).view(w_out.shape[0], w_out.shape[0], 1, 1).repeat(1, 2, 1, 1)\n",
    "    \n",
    "    w_proj_et = torch.cat([w_proj, I], dim=0)\n",
    "    w_1_et = torch.cat(\n",
    "        [torch.cat([w_1, torch.zeros((w_1.shape[0], I.shape[1], 3, 3))], dim=1), torch.cat([torch.zeros((I.shape[0], w_1.shape[1], 3, 3)), I], dim=1)], dim=0\n",
    "    )\n",
    "    w_2_et = torch.cat(\n",
    "        [torch.cat([w_2, torch.zeros((w_2.shape[0], I.shape[1], 3, 3))], dim=1), torch.cat([torch.zeros((I.shape[0], w_2.shape[1], 3, 3)), I], dim=1)], dim=0\n",
    "    )\n",
    "    w_3_et = torch.cat(\n",
    "        [torch.cat([w_3, torch.zeros((w_3.shape[0], I.shape[1], 3, 3))], dim=1), torch.cat([torch.zeros((I.shape[0], w_3.shape[1], 3, 3)), I], dim=1)], dim=0\n",
    "    )\n",
    "    w_out_et = torch.cat(\n",
    "        [torch.cat([w_out, torch.zeros_like(I_input)], dim=1), torch.cat([torch.zeros_like(w_out), I_input], dim=1)], dim=0\n",
    "    )\n",
    "\n",
    "    # body\n",
    "    x_cat_1 = F.conv2d(\n",
    "         x, w_proj_et, padding=1\n",
    "    )\n",
    "    x_cat_1 = F.relu(x_cat_1)  # Since residual skip has no negative values\n",
    "    x_cat_2 = F.conv2d(\n",
    "         x_cat_1, w_1_et, padding=1\n",
    "    )\n",
    "    x_cat_2 = F.relu(x_cat_2)  # Since residual skip has no negative values\n",
    "    x_cat_3 = F.conv2d(\n",
    "         x_cat_2, w_2_et, padding=1\n",
    "    )\n",
    "    x_cat_3 = F.relu(x_cat_3)  # Since residual skip has no negative values\n",
    "    x_cat_bef = F.conv2d(\n",
    "         x_cat_3, w_3_et, padding=1\n",
    "    )\n",
    "    x_cat_bef = F.relu(x_cat_bef)  # Since residual skip has no negative values\n",
    "    x = F.conv2d(\n",
    "       x_cat_bef, w_out_et, padding=1\n",
    "    )\n",
    "    \n",
    "    # skip connection\n",
    "    x = F.conv2d(\n",
    "       x, I_out, padding=0\n",
    "    )\n",
    "    \n",
    "    # clip\n",
    "    # x = torch.clip(x, 0, 255)\n",
    "    I_clip = torch.eye(x.shape[1]).view(x.shape[1], x.shape[1], 1, 1)\n",
    "    x = F.relu(F.conv2d(x, -I_clip, padding=0) + 255)\n",
    "    x = F.relu(F.conv2d(x, -I_clip, padding=0) + 255)\n",
    "    \n",
    "    # upsample\n",
    "    x = F.pixel_shuffle(x, scale)\n",
    "    \n",
    "    return x\n",
    "\n",
    "res_9 = PlainSR_clip_to_conv(x, w_proj, w_1, w_2, w_3, w_out)\n",
    "\n",
    "torch.allclose(res_1, res_9, atol=1e-3)"
   ]
  },
  {
   "cell_type": "markdown",
   "metadata": {},
   "source": [
    "Result of Converted PlainSR has no repeat, add, concat, and clip operation that slows down Mobile SoC's performance."
   ]
  },
  {
   "cell_type": "markdown",
   "metadata": {},
   "source": []
  }
 ],
 "metadata": {
  "kernelspec": {
   "display_name": "safmn",
   "language": "python",
   "name": "python3"
  },
  "language_info": {
   "codemirror_mode": {
    "name": "ipython",
    "version": 3
   },
   "file_extension": ".py",
   "mimetype": "text/x-python",
   "name": "python",
   "nbconvert_exporter": "python",
   "pygments_lexer": "ipython3",
   "version": "3.10.12"
  }
 },
 "nbformat": 4,
 "nbformat_minor": 2
}
